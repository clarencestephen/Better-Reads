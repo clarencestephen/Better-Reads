{
 "cells": [
  {
   "cell_type": "markdown",
   "metadata": {},
   "source": [
    "# Recommender Systems with PySpark\n",
    "\n",
    "Inspired by this common Spark [tutorial](https://github.com/jadianes/spark-movie-lens/blob/master/notebooks/building-recommender.ipynb) but updated to work with dataframes.\n",
    "\n",
    "We will be using MovieLens data to create a recommender system with PySpark."
   ]
  },
  {
   "cell_type": "code",
   "execution_count": 9,
   "metadata": {
    "ExecuteTime": {
     "end_time": "2016-12-28T20:24:25.360630",
     "start_time": "2016-12-28T20:24:25.166259"
    },
    "collapsed": true
   },
   "outputs": [],
   "source": [
    "import warnings\n",
    "import matplotlib.pyplot as plt\n",
    "import seaborn as sns\n",
    "import pandas as pd\n",
    "import numpy as np\n",
    "import requests, os, sys, zipfile, io\n",
    "\n",
    "# pyspark imports\n",
    "import pyspark\n",
    "\n",
    "warnings.filterwarnings('ignore')\n",
    "pd.options.display.mpl_style = 'default'\n",
    "\n",
    "%matplotlib inline"
   ]
  },
  {
   "cell_type": "markdown",
   "metadata": {},
   "source": [
    "## Connect to the Spark server"
   ]
  },
  {
   "cell_type": "markdown",
   "metadata": {},
   "source": [
    "This is the standard spark session."
   ]
  },
  {
   "cell_type": "code",
   "execution_count": 10,
   "metadata": {
    "ExecuteTime": {
     "end_time": "2016-12-26T20:47:46.795709",
     "start_time": "2016-12-26T20:47:42.596867"
    },
    "collapsed": true
   },
   "outputs": [],
   "source": [
    "spark = pyspark.sql.SparkSession.builder.getOrCreate() "
   ]
  },
  {
   "cell_type": "markdown",
   "metadata": {},
   "source": [
    "We will also need access to the SQL context for one of the commands run in this notebook. Note that a spark cluster **CAN NOT** have more than one spark context running. If an error is produced, try skipping this cell. If that does not work, the running container must be stopped (`docker stop _container_id_`) and removed (`docker rm _container_id_`) and then a new container launched from the image with `docker run`."
   ]
  },
  {
   "cell_type": "code",
   "execution_count": 2,
   "metadata": {},
   "outputs": [],
   "source": [
    "sc = pyspark.SparkContext()\n",
    "sqlc = pyspark.sql.SQLContext(sc)"
   ]
  },
  {
   "cell_type": "markdown",
   "metadata": {},
   "source": [
    "## Obtain the data\n",
    "\n",
    "We begin by downloading the smaller movie ratings data set and writing it to a directory. If the larger dataset is desired, use the alternative value for `filepath`."
   ]
  },
  {
   "cell_type": "code",
   "execution_count": 3,
   "metadata": {
    "ExecuteTime": {
     "end_time": "2016-12-26T20:59:12.986781",
     "start_time": "2016-12-26T20:59:12.975967"
    },
    "collapsed": true
   },
   "outputs": [],
   "source": [
    "filepath = 'ml-latest-small'  # the smaller dataset\n",
    "# filepath = 'ml-latest'      # the full dataset\n",
    "\n",
    "url = 'http://files.grouplens.org/datasets/movielens/{}.zip'.format(filepath)\n",
    "\n",
    "filename = 'movies.csv'\n",
    "fullpath = os.sep.join([filepath, filename])\n",
    "\n",
    "if not os.path.exists(fullpath):    \n",
    "    sess = requests.session()\n",
    "    resp = sess.get(url)\n",
    "    zipdata = zipfile.ZipFile(io.BytesIO(resp.content))\n",
    "    zipdata.extractall()"
   ]
  },
  {
   "cell_type": "markdown",
   "metadata": {},
   "source": [
    "Preview the files from the downloaded data."
   ]
  },
  {
   "cell_type": "code",
   "execution_count": 4,
   "metadata": {
    "ExecuteTime": {
     "end_time": "2016-12-26T20:59:14.505442",
     "start_time": "2016-12-26T20:59:14.362134"
    }
   },
   "outputs": [
    {
     "name": "stdout",
     "output_type": "stream",
     "text": [
      "movieId,title,genres\r",
      "\r\n",
      "1,Toy Story (1995),Adventure|Animation|Children|Comedy|Fantasy\r",
      "\r\n",
      "2,Jumanji (1995),Adventure|Children|Fantasy\r",
      "\r\n"
     ]
    }
   ],
   "source": [
    "# first lines of included files\n",
    "! head -n 3 {filepath}/movies.csv"
   ]
  },
  {
   "cell_type": "code",
   "execution_count": 5,
   "metadata": {
    "ExecuteTime": {
     "end_time": "2016-12-26T20:59:14.981434",
     "start_time": "2016-12-26T20:59:14.851176"
    }
   },
   "outputs": [
    {
     "name": "stdout",
     "output_type": "stream",
     "text": [
      "userId,movieId,rating,timestamp\r",
      "\r\n",
      "1,31,2.5,1260759144\r",
      "\r\n",
      "1,1029,3.0,1260759179\r",
      "\r\n"
     ]
    }
   ],
   "source": [
    "! head -n 3 {filepath}/ratings.csv"
   ]
  },
  {
   "cell_type": "code",
   "execution_count": 6,
   "metadata": {
    "ExecuteTime": {
     "end_time": "2016-12-26T20:59:15.565655",
     "start_time": "2016-12-26T20:59:15.435283"
    }
   },
   "outputs": [
    {
     "name": "stdout",
     "output_type": "stream",
     "text": [
      "movieId,imdbId,tmdbId\r",
      "\r\n",
      "1,0114709,862\r",
      "\r\n",
      "2,0113497,8844\r",
      "\r\n"
     ]
    }
   ],
   "source": [
    "! head -n 3 {filepath}/links.csv"
   ]
  },
  {
   "cell_type": "code",
   "execution_count": 7,
   "metadata": {
    "ExecuteTime": {
     "end_time": "2016-12-26T20:59:16.222171",
     "start_time": "2016-12-26T20:59:16.091533"
    }
   },
   "outputs": [
    {
     "name": "stdout",
     "output_type": "stream",
     "text": [
      "userId,movieId,tag,timestamp\r",
      "\r\n",
      "15,339,sandra 'boring' bullock,1138537770\r",
      "\r\n",
      "15,1955,dentist,1193435061\r",
      "\r\n"
     ]
    }
   ],
   "source": [
    "! head -n 3 {filepath}/tags.csv"
   ]
  },
  {
   "cell_type": "markdown",
   "metadata": {},
   "source": [
    "## Load the ratings\n",
    "\n",
    "We begin by loading the ratings data."
   ]
  },
  {
   "cell_type": "code",
   "execution_count": 11,
   "metadata": {
    "ExecuteTime": {
     "end_time": "2016-12-26T21:05:19.015094",
     "start_time": "2016-12-26T21:05:18.506156"
    }
   },
   "outputs": [
    {
     "name": "stdout",
     "output_type": "stream",
     "text": [
      "root\n",
      " |-- userId: integer (nullable = true)\n",
      " |-- movieId: integer (nullable = true)\n",
      " |-- rating: double (nullable = true)\n",
      " |-- timestamp: integer (nullable = true)\n",
      "\n"
     ]
    }
   ],
   "source": [
    "ratings_path = os.sep.join([filepath, 'ratings.csv'])\n",
    "ratings = spark.read.csv(ratings_path,\n",
    "                        sep=',',\n",
    "                        inferSchema=True,\n",
    "                        header=True)\n",
    "\n",
    "for column in ['userId','movieId','timestamp']:\n",
    "    ratings = ratings.withColumn(column, ratings[column].cast('int'))\n",
    "    \n",
    "ratings.printSchema()"
   ]
  },
  {
   "cell_type": "code",
   "execution_count": 12,
   "metadata": {
    "ExecuteTime": {
     "end_time": "2016-12-26T21:04:36.921495",
     "start_time": "2016-12-26T21:04:36.917186"
    },
    "collapsed": true
   },
   "outputs": [],
   "source": [
    "# function to select a few rows of data and convert to a Pandas dataframe\n",
    "def preview(df, n=3):\n",
    "    return pd.DataFrame(df.take(n), columns=df.columns)"
   ]
  },
  {
   "cell_type": "markdown",
   "metadata": {},
   "source": [
    "We can preview the data as before."
   ]
  },
  {
   "cell_type": "code",
   "execution_count": 13,
   "metadata": {
    "ExecuteTime": {
     "end_time": "2016-12-26T21:04:38.468344",
     "start_time": "2016-12-26T21:04:38.293218"
    }
   },
   "outputs": [
    {
     "data": {
      "text/html": [
       "<div>\n",
       "<style>\n",
       "    .dataframe thead tr:only-child th {\n",
       "        text-align: right;\n",
       "    }\n",
       "\n",
       "    .dataframe thead th {\n",
       "        text-align: left;\n",
       "    }\n",
       "\n",
       "    .dataframe tbody tr th {\n",
       "        vertical-align: top;\n",
       "    }\n",
       "</style>\n",
       "<table border=\"1\" class=\"dataframe\">\n",
       "  <thead>\n",
       "    <tr style=\"text-align: right;\">\n",
       "      <th></th>\n",
       "      <th>userId</th>\n",
       "      <th>movieId</th>\n",
       "      <th>rating</th>\n",
       "      <th>timestamp</th>\n",
       "    </tr>\n",
       "  </thead>\n",
       "  <tbody>\n",
       "    <tr>\n",
       "      <th>0</th>\n",
       "      <td>1</td>\n",
       "      <td>31</td>\n",
       "      <td>2.5</td>\n",
       "      <td>1260759144</td>\n",
       "    </tr>\n",
       "    <tr>\n",
       "      <th>1</th>\n",
       "      <td>1</td>\n",
       "      <td>1029</td>\n",
       "      <td>3.0</td>\n",
       "      <td>1260759179</td>\n",
       "    </tr>\n",
       "    <tr>\n",
       "      <th>2</th>\n",
       "      <td>1</td>\n",
       "      <td>1061</td>\n",
       "      <td>3.0</td>\n",
       "      <td>1260759182</td>\n",
       "    </tr>\n",
       "  </tbody>\n",
       "</table>\n",
       "</div>"
      ],
      "text/plain": [
       "   userId  movieId  rating   timestamp\n",
       "0       1       31     2.5  1260759144\n",
       "1       1     1029     3.0  1260759179\n",
       "2       1     1061     3.0  1260759182"
      ]
     },
     "execution_count": 13,
     "metadata": {},
     "output_type": "execute_result"
    }
   ],
   "source": [
    "preview(ratings)"
   ]
  },
  {
   "cell_type": "markdown",
   "metadata": {},
   "source": [
    "## Split data\n",
    "\n",
    "Let's split the data into train and test data sets."
   ]
  },
  {
   "cell_type": "code",
   "execution_count": 14,
   "metadata": {
    "ExecuteTime": {
     "end_time": "2016-12-26T21:07:21.665387",
     "start_time": "2016-12-26T21:07:21.598317"
    },
    "collapsed": true
   },
   "outputs": [],
   "source": [
    "train, test = ratings.randomSplit([0.7, 0.3], seed=42)"
   ]
  },
  {
   "cell_type": "markdown",
   "metadata": {},
   "source": [
    "## Build the recommender\n",
    "\n",
    "Let's build our first reocmmendation system using PySpark's alternative least squares (ALS) matrix factorization. We will begin by using rank 4 matrices in the factorization. The rank (as well as many other factors), can be updated later using a grid search."
   ]
  },
  {
   "cell_type": "code",
   "execution_count": 15,
   "metadata": {
    "ExecuteTime": {
     "end_time": "2016-12-28T20:46:56.538783",
     "start_time": "2016-12-28T20:46:48.543608"
    }
   },
   "outputs": [
    {
     "data": {
      "text/html": [
       "<div>\n",
       "<style>\n",
       "    .dataframe thead tr:only-child th {\n",
       "        text-align: right;\n",
       "    }\n",
       "\n",
       "    .dataframe thead th {\n",
       "        text-align: left;\n",
       "    }\n",
       "\n",
       "    .dataframe tbody tr th {\n",
       "        vertical-align: top;\n",
       "    }\n",
       "</style>\n",
       "<table border=\"1\" class=\"dataframe\">\n",
       "  <thead>\n",
       "    <tr style=\"text-align: right;\">\n",
       "      <th></th>\n",
       "      <th>userId</th>\n",
       "      <th>movieId</th>\n",
       "      <th>rating</th>\n",
       "      <th>prediction</th>\n",
       "    </tr>\n",
       "  </thead>\n",
       "  <tbody>\n",
       "    <tr>\n",
       "      <th>0</th>\n",
       "      <td>575</td>\n",
       "      <td>148</td>\n",
       "      <td>4.0</td>\n",
       "      <td>NaN</td>\n",
       "    </tr>\n",
       "    <tr>\n",
       "      <th>1</th>\n",
       "      <td>534</td>\n",
       "      <td>463</td>\n",
       "      <td>4.0</td>\n",
       "      <td>3.803605</td>\n",
       "    </tr>\n",
       "    <tr>\n",
       "      <th>2</th>\n",
       "      <td>350</td>\n",
       "      <td>471</td>\n",
       "      <td>3.0</td>\n",
       "      <td>3.799537</td>\n",
       "    </tr>\n",
       "  </tbody>\n",
       "</table>\n",
       "</div>"
      ],
      "text/plain": [
       "   userId  movieId  rating  prediction\n",
       "0     575      148     4.0         NaN\n",
       "1     534      463     4.0    3.803605\n",
       "2     350      471     3.0    3.799537"
      ]
     },
     "execution_count": 15,
     "metadata": {},
     "output_type": "execute_result"
    }
   ],
   "source": [
    "from pyspark.ml.recommendation import ALS\n",
    "\n",
    "# create the model\n",
    "als = ALS(userCol='userId',\n",
    "          itemCol='movieId',\n",
    "          ratingCol='rating',\n",
    "          rank=4,\n",
    "          seed=42)\n",
    "\n",
    "# fit the model\n",
    "als_model = als.fit(train)\n",
    "\n",
    "# make predictions on the test set\n",
    "als_pred = als_model.transform(test)\n",
    "\n",
    "preview(als_pred[['userId', 'movieId', 'rating', 'prediction']])"
   ]
  },
  {
   "cell_type": "markdown",
   "metadata": {},
   "source": [
    "Let's calculate the error metric on this model. Since rating is a continuous value, it probably makes sense to use something like RMSE.\n",
    "\n",
    "Let's begin by calculating the difference between the rating and prediction and then squaring it."
   ]
  },
  {
   "cell_type": "code",
   "execution_count": 16,
   "metadata": {
    "ExecuteTime": {
     "end_time": "2016-12-28T21:40:11.482569",
     "start_time": "2016-12-28T21:40:06.822795"
    }
   },
   "outputs": [
    {
     "data": {
      "text/html": [
       "<div>\n",
       "<style>\n",
       "    .dataframe thead tr:only-child th {\n",
       "        text-align: right;\n",
       "    }\n",
       "\n",
       "    .dataframe thead th {\n",
       "        text-align: left;\n",
       "    }\n",
       "\n",
       "    .dataframe tbody tr th {\n",
       "        vertical-align: top;\n",
       "    }\n",
       "</style>\n",
       "<table border=\"1\" class=\"dataframe\">\n",
       "  <thead>\n",
       "    <tr style=\"text-align: right;\">\n",
       "      <th></th>\n",
       "      <th>rating</th>\n",
       "      <th>prediction</th>\n",
       "      <th>diff_sq</th>\n",
       "    </tr>\n",
       "  </thead>\n",
       "  <tbody>\n",
       "    <tr>\n",
       "      <th>0</th>\n",
       "      <td>4.0</td>\n",
       "      <td>NaN</td>\n",
       "      <td>NaN</td>\n",
       "    </tr>\n",
       "    <tr>\n",
       "      <th>1</th>\n",
       "      <td>4.0</td>\n",
       "      <td>3.803605</td>\n",
       "      <td>0.038571</td>\n",
       "    </tr>\n",
       "    <tr>\n",
       "      <th>2</th>\n",
       "      <td>3.0</td>\n",
       "      <td>3.799537</td>\n",
       "      <td>0.639259</td>\n",
       "    </tr>\n",
       "  </tbody>\n",
       "</table>\n",
       "</div>"
      ],
      "text/plain": [
       "   rating  prediction   diff_sq\n",
       "0     4.0         NaN       NaN\n",
       "1     4.0    3.803605  0.038571\n",
       "2     3.0    3.799537  0.639259"
      ]
     },
     "execution_count": 16,
     "metadata": {},
     "output_type": "execute_result"
    }
   ],
   "source": [
    "als_pred = als_pred.withColumn('diff_sq', (als_pred['rating'] - als_pred['prediction'])**2)\n",
    "\n",
    "preview(als_pred[['rating','prediction','diff_sq']])"
   ]
  },
  {
   "cell_type": "markdown",
   "metadata": {},
   "source": [
    "We can then calculate the RMSE over the entire data set using functions found in PySpark's SQL context (`pyspark.sql.functions`). In general, PySpark's functions **DO NOT** ignore NaN's, so we will have to drop them before doing the calculation otherwise it will return NaN."
   ]
  },
  {
   "cell_type": "code",
   "execution_count": 17,
   "metadata": {
    "ExecuteTime": {
     "end_time": "2016-12-29T05:44:27.690181",
     "start_time": "2016-12-29T05:44:20.347181"
    }
   },
   "outputs": [
    {
     "name": "stdout",
     "output_type": "stream",
     "text": [
      "+-----------------+\n",
      "|             rmse|\n",
      "+-----------------+\n",
      "|0.922772624896502|\n",
      "+-----------------+\n",
      "\n"
     ]
    }
   ],
   "source": [
    "from pyspark.sql import functions as func\n",
    "\n",
    "# the aggregate function can be created outside of the dataframe if desired\n",
    "rms_calc = func.sqrt(func.mean('diff_sq'))\n",
    "\n",
    "\n",
    "# the aggregate function is then called using select\n",
    "# this is similar syntax-wise to a SQL select\n",
    "# and `alias` is used to set the column name\n",
    "# note that a list of aggregate functions can be passed as well,\n",
    "# which will return mulitple columns\n",
    "als_pred.dropna().select( rms_calc.alias('rmse') ).show()"
   ]
  },
  {
   "cell_type": "markdown",
   "metadata": {},
   "source": [
    "## Optimization with grid search\n",
    "\n",
    "We can use a parameter grid to identify the best ALS model, much like we did with the supervised machine learning model. We will use RMSE as our error metric again, but we can simplify things by using the RMSE function from the `RegressionEvaluator` module.\n",
    "\n",
    "See the note in the code about shortening the grid search time if it takes too long on your system."
   ]
  },
  {
   "cell_type": "code",
   "execution_count": 18,
   "metadata": {
    "ExecuteTime": {
     "end_time": "2016-12-28T21:39:54.002760",
     "start_time": "2016-12-28T21:38:21.740985"
    },
    "collapsed": true
   },
   "outputs": [],
   "source": [
    "from pyspark.ml.tuning import ParamGridBuilder, CrossValidator\n",
    "from pyspark.ml.evaluation import RegressionEvaluator\n",
    "\n",
    "# The ALS instance\n",
    "als = ALS(userCol='userId',\n",
    "          itemCol='movieId',\n",
    "          ratingCol='rating',\n",
    "          seed=42)\n",
    "\n",
    "# The parameter grid to search\n",
    "# NOTE: the parmeter lists can be reduced to two or even \n",
    "# one item if the grid search takes too long\n",
    "als_paramgrid = (ParamGridBuilder()\n",
    "                 .addGrid(als.rank, [2, 4])\n",
    "                 .addGrid(als.maxIter, [10])\n",
    "                 .addGrid(als.regParam, [0.1])\n",
    "                 .addGrid(als.alpha, [2.0, 3.0])\n",
    "                 .build())\n",
    "\n",
    "# The evaluation function for determining the best model\n",
    "rmse_eval = RegressionEvaluator(labelCol='rating',\n",
    "                                predictionCol='prediction', \n",
    "                                metricName='rmse')\n",
    "\n",
    "# The cross validation instance\n",
    "als_cv = CrossValidator(estimator=als,\n",
    "                        estimatorParamMaps=als_paramgrid,\n",
    "                        evaluator=rmse_eval,\n",
    "                        numFolds=3, \n",
    "                        seed=42)\n",
    "\n",
    "# Fit the models and find the best one!\n",
    "als_cv = als_cv.fit(train.dropna())"
   ]
  },
  {
   "cell_type": "markdown",
   "metadata": {},
   "source": [
    "As we did with the supervised machine learning cross-validated model, we can explore the best cross-validated ALS model to a limited extent."
   ]
  },
  {
   "cell_type": "code",
   "execution_count": 19,
   "metadata": {
    "ExecuteTime": {
     "end_time": "2016-12-29T06:03:12.535458",
     "start_time": "2016-12-29T06:03:12.528071"
    }
   },
   "outputs": [
    {
     "name": "stdout",
     "output_type": "stream",
     "text": [
      "2\n"
     ]
    }
   ],
   "source": [
    "als_best = als_cv.bestModel\n",
    "\n",
    "print(als_best.rank)"
   ]
  },
  {
   "cell_type": "markdown",
   "metadata": {},
   "source": [
    "Now we can make predictions using the best model and calculate the RMSE. Based on the gridsearch, the RMSE was reduced slightly from 0.935 to 0.928."
   ]
  },
  {
   "cell_type": "code",
   "execution_count": 21,
   "metadata": {
    "ExecuteTime": {
     "end_time": "2016-12-29T06:01:29.346724",
     "start_time": "2016-12-29T06:01:17.144986"
    }
   },
   "outputs": [
    {
     "name": "stdout",
     "output_type": "stream",
     "text": [
      "+------------------+-----------------+\n",
      "|     rmse_original|    rmse_crossval|\n",
      "+------------------+-----------------+\n",
      "|0.9227726248965021|0.922972186762033|\n",
      "+------------------+-----------------+\n",
      "\n"
     ]
    }
   ],
   "source": [
    "als_pred_best = als_best.transform(test)\n",
    "\n",
    "als_best_rmse = sqlc.createDataFrame([ (rmse_eval.evaluate(als_pred.dropna()), \n",
    "                                        rmse_eval.evaluate(als_pred_best.dropna())) ],\n",
    "                                     ['rmse_original', 'rmse_crossval'])\n",
    "\n",
    "als_best_rmse.show()"
   ]
  },
  {
   "cell_type": "markdown",
   "metadata": {},
   "source": [
    "## Visualize predicted vs actual ratings\n",
    "\n",
    "We can use a scatter plot to visualize how well our predictions for the test data match the actual ones.  As can be seen below, there is some room for improvement in our model!"
   ]
  },
  {
   "cell_type": "code",
   "execution_count": 22,
   "metadata": {
    "collapsed": true
   },
   "outputs": [],
   "source": [
    "# convert to a Pandas dataframe for plotting\n",
    "als_pred_best_df = als_pred_best.dropna().toPandas()"
   ]
  },
  {
   "cell_type": "code",
   "execution_count": 23,
   "metadata": {},
   "outputs": [
    {
     "data": {
      "image/png": "[encoded data removed]",
      "text/plain": [
       "<matplotlib.figure.Figure at 0x7f91c0fd3cf8>"
      ]
     },
     "metadata": {},
     "output_type": "display_data"
    }
   ],
   "source": [
    "sns.set_palette('dark')\n",
    "sns.set_context('notebook')\n",
    "sns.set_style('white')\n",
    "\n",
    "ax = als_pred_best_df.plot('rating','prediction', \n",
    "                           marker='o', ls='', ms=3.0,\n",
    "                           alpha=0.5, legend=False)\n",
    "\n",
    "_ = ax.set(xlabel='Actual Rating', ylabel='Predicted Rating',\n",
    "           title='Movie Rating Predictions')\n",
    "ax.set_xlim(0, 5.5)\n",
    "\n",
    "# save the figure in notebooks folder so it's accessible on AWS\n",
    "fig = plt.gcf()\n",
    "fig.savefig('movie_rating_predictions.pdf')"
   ]
  },
  {
   "cell_type": "markdown",
   "metadata": {},
   "source": [
    "## Save recommendation model for later use\n",
    "\n",
    "As with the gradient boosted tree model (GBT) in the supervised machine learning notebook, we can save our alternating least squares (ALS) model and load/use it elsewhere.\n",
    "\n",
    "This section is essentially identical to the supervised machine learning example from yesterday."
   ]
  },
  {
   "cell_type": "code",
   "execution_count": 24,
   "metadata": {},
   "outputs": [
    {
     "name": "stdout",
     "output_type": "stream",
     "text": [
      "itemFactors  metadata  userFactors\r\n"
     ]
    }
   ],
   "source": [
    "model_output_name = 'als_recommendation_model_pipeline_crossval'\n",
    "\n",
    "# models will not overwrite existing ones of the same name\n",
    "import shutil\n",
    "if os.path.exists(model_output_name):\n",
    "    shutil.rmtree(model_output_name)\n",
    "    \n",
    "als_best.save(model_output_name)\n",
    "\n",
    "! ls {model_output_name}"
   ]
  },
  {
   "cell_type": "markdown",
   "metadata": {},
   "source": [
    "Reloading is also similar--here we have to import the ALS model class."
   ]
  },
  {
   "cell_type": "code",
   "execution_count": 25,
   "metadata": {},
   "outputs": [
    {
     "data": {
      "text/plain": [
       "ALS_4121ada2091e1e1656fa"
      ]
     },
     "execution_count": 25,
     "metadata": {},
     "output_type": "execute_result"
    }
   ],
   "source": [
    "from pyspark.ml.recommendation import ALSModel\n",
    "\n",
    "reloaded_model = ALSModel.load(model_output_name)\n",
    "reloaded_model"
   ]
  }
 ],
 "metadata": {
  "anaconda-cloud": {},
  "kernelspec": {
   "display_name": "Python 3",
   "language": "python",
   "name": "python3"
  },
  "language_info": {
   "codemirror_mode": {
    "name": "ipython",
    "version": 3
   },
   "file_extension": ".py",
   "mimetype": "text/x-python",
   "name": "python",
   "nbconvert_exporter": "python",
   "pygments_lexer": "ipython3",
   "version": "3.6.1"
  }
 },
 "nbformat": 4,
 "nbformat_minor": 2
}
