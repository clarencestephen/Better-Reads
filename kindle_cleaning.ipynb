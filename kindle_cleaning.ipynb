{
 "cells": [
  {
   "cell_type": "code",
   "execution_count": 16,
   "metadata": {},
   "outputs": [],
   "source": [
    "import pandas as pd\n",
    "import numpy as np\n",
    "from collections import defaultdict\n",
    "import pickle\n",
    "import os\n",
    "import time\n",
    "import timeit\n",
    "import json\n",
    "\n",
    "# pickloader = open(\"pickles/reviews_kindle.pkl\",\"rb\")\n",
    "# reviews_kindle = pickle.load(pickloader)\n",
    "# pickloader.close()\n",
    "\n",
    "# pickloader = open(\"pickles/meta_kindle.pkl\",\"rb\")\n",
    "# meta_kindle = pickle.load(pickloader)\n",
    "# pickloader.close()\n"
   ]
  },
  {
   "cell_type": "code",
   "execution_count": 28,
   "metadata": {},
   "outputs": [],
   "source": [
    "#pickle save\n",
    "\n",
    "pickler = open(\"pickles/reviews_kindle.pkl\",\"wb\")\n",
    "pickle.dump(reviews_kindle, pickler)\n",
    "pickler.close()\n",
    "\n",
    "pickler = open(\"pickles/meta_kindle.pkl\",\"wb\")\n",
    "pickle.dump(meta_kindle, pickler)\n",
    "pickler.close()\n",
    "\n",
    "pickler = open(\"pickles/kindle.pkl\",\"wb\")\n",
    "pickle.dump(kindle, pickler)\n",
    "pickler.close()"
   ]
  },
  {
   "cell_type": "code",
   "execution_count": 17,
   "metadata": {},
   "outputs": [
    {
     "data": {
      "text/html": [
       "<div>\n",
       "<style scoped>\n",
       "    .dataframe tbody tr th:only-of-type {\n",
       "        vertical-align: middle;\n",
       "    }\n",
       "\n",
       "    .dataframe tbody tr th {\n",
       "        vertical-align: top;\n",
       "    }\n",
       "\n",
       "    .dataframe thead th {\n",
       "        text-align: right;\n",
       "    }\n",
       "</style>\n",
       "<table border=\"1\" class=\"dataframe\">\n",
       "  <thead>\n",
       "    <tr style=\"text-align: right;\">\n",
       "      <th></th>\n",
       "      <th>asin</th>\n",
       "      <th>overall</th>\n",
       "      <th>reviewText</th>\n",
       "      <th>reviewerID</th>\n",
       "      <th>year</th>\n",
       "    </tr>\n",
       "  </thead>\n",
       "  <tbody>\n",
       "    <tr>\n",
       "      <th>0</th>\n",
       "      <td>1603420304</td>\n",
       "      <td>4</td>\n",
       "      <td>Good solid recipes I am well out of college bu...</td>\n",
       "      <td>A2GZ9GFZV1LWB0</td>\n",
       "      <td>2014-07-13</td>\n",
       "    </tr>\n",
       "  </tbody>\n",
       "</table>\n",
       "</div>"
      ],
      "text/plain": [
       "         asin  overall                                         reviewText  \\\n",
       "0  1603420304        4  Good solid recipes I am well out of college bu...   \n",
       "\n",
       "       reviewerID       year  \n",
       "0  A2GZ9GFZV1LWB0 2014-07-13  "
      ]
     },
     "execution_count": 17,
     "metadata": {},
     "output_type": "execute_result"
    }
   ],
   "source": [
    "reviews_kindle.head(1)"
   ]
  },
  {
   "cell_type": "code",
   "execution_count": 18,
   "metadata": {},
   "outputs": [
    {
     "data": {
      "text/html": [
       "<div>\n",
       "<style scoped>\n",
       "    .dataframe tbody tr th:only-of-type {\n",
       "        vertical-align: middle;\n",
       "    }\n",
       "\n",
       "    .dataframe tbody tr th {\n",
       "        vertical-align: top;\n",
       "    }\n",
       "\n",
       "    .dataframe thead th {\n",
       "        text-align: right;\n",
       "    }\n",
       "</style>\n",
       "<table border=\"1\" class=\"dataframe\">\n",
       "  <thead>\n",
       "    <tr style=\"text-align: right;\">\n",
       "      <th></th>\n",
       "      <th>asin</th>\n",
       "      <th>categories</th>\n",
       "      <th>description</th>\n",
       "      <th>imUrl</th>\n",
       "      <th>related</th>\n",
       "      <th>title</th>\n",
       "    </tr>\n",
       "  </thead>\n",
       "  <tbody>\n",
       "    <tr>\n",
       "      <th>0</th>\n",
       "      <td>1603420304</td>\n",
       "      <td>[[Books, Cookbooks, Food &amp; Wine, Quick &amp; Easy]...</td>\n",
       "      <td>In less time and for less money than it takes ...</td>\n",
       "      <td>http://ecx.images-amazon.com/images/I/51IEqPrF...</td>\n",
       "      <td>{'also_viewed': ['B001OLRKLQ', 'B004J35JIC', '...</td>\n",
       "      <td>NaN</td>\n",
       "    </tr>\n",
       "  </tbody>\n",
       "</table>\n",
       "</div>"
      ],
      "text/plain": [
       "         asin                                         categories  \\\n",
       "0  1603420304  [[Books, Cookbooks, Food & Wine, Quick & Easy]...   \n",
       "\n",
       "                                         description  \\\n",
       "0  In less time and for less money than it takes ...   \n",
       "\n",
       "                                               imUrl  \\\n",
       "0  http://ecx.images-amazon.com/images/I/51IEqPrF...   \n",
       "\n",
       "                                             related title  \n",
       "0  {'also_viewed': ['B001OLRKLQ', 'B004J35JIC', '...   NaN  "
      ]
     },
     "execution_count": 18,
     "metadata": {},
     "output_type": "execute_result"
    }
   ],
   "source": [
    "meta_kindle.head(1)"
   ]
  },
  {
   "cell_type": "code",
   "execution_count": 19,
   "metadata": {},
   "outputs": [
    {
     "name": "stdout",
     "output_type": "stream",
     "text": [
      "CPU times: user 4min 39s, sys: 900 ms, total: 4min 40s\n",
      "Wall time: 4min 35s\n"
     ]
    }
   ],
   "source": [
    "# %%time\n",
    "# reviews_kindle['reviewText'] = reviews_kindle['summary']+\" \"+reviews_kindle['reviewText']\n",
    "# reviews_kindle['year']= pd.to_datetime(reviews_kindle.reviewTime)\n",
    "# reviews_kindle = reviews_kindle.drop(columns = ['helpful','reviewTime','reviewerName','summary','unixReviewTime'])"
   ]
  },
  {
   "cell_type": "code",
   "execution_count": 22,
   "metadata": {},
   "outputs": [
    {
     "data": {
      "text/html": [
       "<div>\n",
       "<style scoped>\n",
       "    .dataframe tbody tr th:only-of-type {\n",
       "        vertical-align: middle;\n",
       "    }\n",
       "\n",
       "    .dataframe tbody tr th {\n",
       "        vertical-align: top;\n",
       "    }\n",
       "\n",
       "    .dataframe thead th {\n",
       "        text-align: right;\n",
       "    }\n",
       "</style>\n",
       "<table border=\"1\" class=\"dataframe\">\n",
       "  <thead>\n",
       "    <tr style=\"text-align: right;\">\n",
       "      <th></th>\n",
       "      <th>asin</th>\n",
       "      <th>categories</th>\n",
       "      <th>description</th>\n",
       "      <th>imUrl</th>\n",
       "      <th>related</th>\n",
       "      <th>title</th>\n",
       "    </tr>\n",
       "  </thead>\n",
       "  <tbody>\n",
       "    <tr>\n",
       "      <th>0</th>\n",
       "      <td>1603420304</td>\n",
       "      <td>[[Books, Cookbooks, Food &amp; Wine, Quick &amp; Easy]...</td>\n",
       "      <td>In less time and for less money than it takes ...</td>\n",
       "      <td>http://ecx.images-amazon.com/images/I/51IEqPrF...</td>\n",
       "      <td>{'also_viewed': ['B001OLRKLQ', 'B004J35JIC', '...</td>\n",
       "      <td>NaN</td>\n",
       "    </tr>\n",
       "    <tr>\n",
       "      <th>1</th>\n",
       "      <td>B0002IQ15S</td>\n",
       "      <td>[[Kindle Store, Kindle Accessories, Power Adap...</td>\n",
       "      <td>This universal DC adapter powers/charges porta...</td>\n",
       "      <td>http://ecx.images-amazon.com/images/I/21QFJM28...</td>\n",
       "      <td>{'also_viewed': ['B00511PS3C', 'B000PI17MM', '...</td>\n",
       "      <td>Mobility IGO AUTOPOWER 3000 SERIES ( PS0221-10 )</td>\n",
       "    </tr>\n",
       "    <tr>\n",
       "      <th>2</th>\n",
       "      <td>B000F83SZQ</td>\n",
       "      <td>[[Books, Literature &amp; Fiction], [Books, Myster...</td>\n",
       "      <td>NaN</td>\n",
       "      <td>http://ecx.images-amazon.com/images/I/51yLqHe%...</td>\n",
       "      <td>{'also_bought': ['B0080H1C0W', 'B00LK4ZKOG', '...</td>\n",
       "      <td>NaN</td>\n",
       "    </tr>\n",
       "    <tr>\n",
       "      <th>3</th>\n",
       "      <td>B000F83TEQ</td>\n",
       "      <td>[[Books, Literature &amp; Fiction], [Books, Myster...</td>\n",
       "      <td>NaN</td>\n",
       "      <td>http://ecx.images-amazon.com/images/I/2136NBNV...</td>\n",
       "      <td>{'also_bought': ['B00IS81LFO', 'B000FA5T6A', '...</td>\n",
       "      <td>NaN</td>\n",
       "    </tr>\n",
       "    <tr>\n",
       "      <th>4</th>\n",
       "      <td>B000F83STC</td>\n",
       "      <td>[[Books, Literature &amp; Fiction, Erotica], [Kind...</td>\n",
       "      <td>NaN</td>\n",
       "      <td>http://g-ecx.images-amazon.com/images/G/01/x-s...</td>\n",
       "      <td>NaN</td>\n",
       "      <td>NaN</td>\n",
       "    </tr>\n",
       "  </tbody>\n",
       "</table>\n",
       "</div>"
      ],
      "text/plain": [
       "         asin                                         categories  \\\n",
       "0  1603420304  [[Books, Cookbooks, Food & Wine, Quick & Easy]...   \n",
       "1  B0002IQ15S  [[Kindle Store, Kindle Accessories, Power Adap...   \n",
       "2  B000F83SZQ  [[Books, Literature & Fiction], [Books, Myster...   \n",
       "3  B000F83TEQ  [[Books, Literature & Fiction], [Books, Myster...   \n",
       "4  B000F83STC  [[Books, Literature & Fiction, Erotica], [Kind...   \n",
       "\n",
       "                                         description  \\\n",
       "0  In less time and for less money than it takes ...   \n",
       "1  This universal DC adapter powers/charges porta...   \n",
       "2                                                NaN   \n",
       "3                                                NaN   \n",
       "4                                                NaN   \n",
       "\n",
       "                                               imUrl  \\\n",
       "0  http://ecx.images-amazon.com/images/I/51IEqPrF...   \n",
       "1  http://ecx.images-amazon.com/images/I/21QFJM28...   \n",
       "2  http://ecx.images-amazon.com/images/I/51yLqHe%...   \n",
       "3  http://ecx.images-amazon.com/images/I/2136NBNV...   \n",
       "4  http://g-ecx.images-amazon.com/images/G/01/x-s...   \n",
       "\n",
       "                                             related  \\\n",
       "0  {'also_viewed': ['B001OLRKLQ', 'B004J35JIC', '...   \n",
       "1  {'also_viewed': ['B00511PS3C', 'B000PI17MM', '...   \n",
       "2  {'also_bought': ['B0080H1C0W', 'B00LK4ZKOG', '...   \n",
       "3  {'also_bought': ['B00IS81LFO', 'B000FA5T6A', '...   \n",
       "4                                                NaN   \n",
       "\n",
       "                                              title  \n",
       "0                                               NaN  \n",
       "1  Mobility IGO AUTOPOWER 3000 SERIES ( PS0221-10 )  \n",
       "2                                               NaN  \n",
       "3                                               NaN  \n",
       "4                                               NaN  "
      ]
     },
     "execution_count": 22,
     "metadata": {},
     "output_type": "execute_result"
    }
   ],
   "source": [
    "# meta_kindle = meta_kindle.drop(columns = ['brand','price','salesRank'])\n",
    "# meta_kindle.head()"
   ]
  },
  {
   "cell_type": "code",
   "execution_count": 19,
   "metadata": {},
   "outputs": [
    {
     "name": "stdout",
     "output_type": "stream",
     "text": [
      "(3205467, 5) (434702, 6)\n"
     ]
    }
   ],
   "source": [
    "print(reviews_kindle.shape, meta_kindle.shape)"
   ]
  },
  {
   "cell_type": "code",
   "execution_count": 26,
   "metadata": {},
   "outputs": [
    {
     "data": {
      "text/plain": [
       "(3205467, 10)"
      ]
     },
     "execution_count": 26,
     "metadata": {},
     "output_type": "execute_result"
    }
   ],
   "source": [
    "temp.shape"
   ]
  },
  {
   "cell_type": "code",
   "execution_count": 25,
   "metadata": {},
   "outputs": [
    {
     "data": {
      "text/html": [
       "<div>\n",
       "<style scoped>\n",
       "    .dataframe tbody tr th:only-of-type {\n",
       "        vertical-align: middle;\n",
       "    }\n",
       "\n",
       "    .dataframe tbody tr th {\n",
       "        vertical-align: top;\n",
       "    }\n",
       "\n",
       "    .dataframe thead th {\n",
       "        text-align: right;\n",
       "    }\n",
       "</style>\n",
       "<table border=\"1\" class=\"dataframe\">\n",
       "  <thead>\n",
       "    <tr style=\"text-align: right;\">\n",
       "      <th></th>\n",
       "      <th>asin</th>\n",
       "      <th>overall</th>\n",
       "      <th>reviewText</th>\n",
       "      <th>reviewerID</th>\n",
       "      <th>year</th>\n",
       "      <th>categories</th>\n",
       "      <th>description</th>\n",
       "      <th>imUrl</th>\n",
       "      <th>related</th>\n",
       "      <th>title</th>\n",
       "    </tr>\n",
       "  </thead>\n",
       "  <tbody>\n",
       "    <tr>\n",
       "      <th>0</th>\n",
       "      <td>1603420304</td>\n",
       "      <td>4</td>\n",
       "      <td>Good solid recipes I am well out of college bu...</td>\n",
       "      <td>A2GZ9GFZV1LWB0</td>\n",
       "      <td>2014-07-13</td>\n",
       "      <td>[['Books', 'Cookbooks, Food &amp; Wine', 'Quick &amp; ...</td>\n",
       "      <td>In less time and for less money than it takes ...</td>\n",
       "      <td>http://ecx.images-amazon.com/images/I/51IEqPrF...</td>\n",
       "      <td>{'also_viewed': ['B001OLRKLQ', 'B004J35JIC', '...</td>\n",
       "      <td>nan</td>\n",
       "    </tr>\n",
       "    <tr>\n",
       "      <th>1</th>\n",
       "      <td>1603420304</td>\n",
       "      <td>3</td>\n",
       "      <td>Okay for true beginners So, I bought this book...</td>\n",
       "      <td>A1K7VSUDCVAPW8</td>\n",
       "      <td>2010-08-19</td>\n",
       "      <td>[['Books', 'Cookbooks, Food &amp; Wine', 'Quick &amp; ...</td>\n",
       "      <td>In less time and for less money than it takes ...</td>\n",
       "      <td>http://ecx.images-amazon.com/images/I/51IEqPrF...</td>\n",
       "      <td>{'also_viewed': ['B001OLRKLQ', 'B004J35JIC', '...</td>\n",
       "      <td>nan</td>\n",
       "    </tr>\n",
       "    <tr>\n",
       "      <th>2</th>\n",
       "      <td>1603420304</td>\n",
       "      <td>4</td>\n",
       "      <td>Worth the money The pros:1. It really teaches ...</td>\n",
       "      <td>A35J5XRE5ZT6H2</td>\n",
       "      <td>2013-04-06</td>\n",
       "      <td>[['Books', 'Cookbooks, Food &amp; Wine', 'Quick &amp; ...</td>\n",
       "      <td>In less time and for less money than it takes ...</td>\n",
       "      <td>http://ecx.images-amazon.com/images/I/51IEqPrF...</td>\n",
       "      <td>{'also_viewed': ['B001OLRKLQ', 'B004J35JIC', '...</td>\n",
       "      <td>nan</td>\n",
       "    </tr>\n",
       "    <tr>\n",
       "      <th>3</th>\n",
       "      <td>1603420304</td>\n",
       "      <td>4</td>\n",
       "      <td>Good book got it in good time. i think its a g...</td>\n",
       "      <td>A3DGZNFSMNWSX5</td>\n",
       "      <td>2010-09-28</td>\n",
       "      <td>[['Books', 'Cookbooks, Food &amp; Wine', 'Quick &amp; ...</td>\n",
       "      <td>In less time and for less money than it takes ...</td>\n",
       "      <td>http://ecx.images-amazon.com/images/I/51IEqPrF...</td>\n",
       "      <td>{'also_viewed': ['B001OLRKLQ', 'B004J35JIC', '...</td>\n",
       "      <td>nan</td>\n",
       "    </tr>\n",
       "    <tr>\n",
       "      <th>4</th>\n",
       "      <td>1603420304</td>\n",
       "      <td>5</td>\n",
       "      <td>Very adorable I bought this for my friend's bi...</td>\n",
       "      <td>A2CVDQ6H36L4VL</td>\n",
       "      <td>2012-07-16</td>\n",
       "      <td>[['Books', 'Cookbooks, Food &amp; Wine', 'Quick &amp; ...</td>\n",
       "      <td>In less time and for less money than it takes ...</td>\n",
       "      <td>http://ecx.images-amazon.com/images/I/51IEqPrF...</td>\n",
       "      <td>{'also_viewed': ['B001OLRKLQ', 'B004J35JIC', '...</td>\n",
       "      <td>nan</td>\n",
       "    </tr>\n",
       "  </tbody>\n",
       "</table>\n",
       "</div>"
      ],
      "text/plain": [
       "         asin  overall                                         reviewText  \\\n",
       "0  1603420304        4  Good solid recipes I am well out of college bu...   \n",
       "1  1603420304        3  Okay for true beginners So, I bought this book...   \n",
       "2  1603420304        4  Worth the money The pros:1. It really teaches ...   \n",
       "3  1603420304        4  Good book got it in good time. i think its a g...   \n",
       "4  1603420304        5  Very adorable I bought this for my friend's bi...   \n",
       "\n",
       "       reviewerID       year  \\\n",
       "0  A2GZ9GFZV1LWB0 2014-07-13   \n",
       "1  A1K7VSUDCVAPW8 2010-08-19   \n",
       "2  A35J5XRE5ZT6H2 2013-04-06   \n",
       "3  A3DGZNFSMNWSX5 2010-09-28   \n",
       "4  A2CVDQ6H36L4VL 2012-07-16   \n",
       "\n",
       "                                          categories  \\\n",
       "0  [['Books', 'Cookbooks, Food & Wine', 'Quick & ...   \n",
       "1  [['Books', 'Cookbooks, Food & Wine', 'Quick & ...   \n",
       "2  [['Books', 'Cookbooks, Food & Wine', 'Quick & ...   \n",
       "3  [['Books', 'Cookbooks, Food & Wine', 'Quick & ...   \n",
       "4  [['Books', 'Cookbooks, Food & Wine', 'Quick & ...   \n",
       "\n",
       "                                         description  \\\n",
       "0  In less time and for less money than it takes ...   \n",
       "1  In less time and for less money than it takes ...   \n",
       "2  In less time and for less money than it takes ...   \n",
       "3  In less time and for less money than it takes ...   \n",
       "4  In less time and for less money than it takes ...   \n",
       "\n",
       "                                               imUrl  \\\n",
       "0  http://ecx.images-amazon.com/images/I/51IEqPrF...   \n",
       "1  http://ecx.images-amazon.com/images/I/51IEqPrF...   \n",
       "2  http://ecx.images-amazon.com/images/I/51IEqPrF...   \n",
       "3  http://ecx.images-amazon.com/images/I/51IEqPrF...   \n",
       "4  http://ecx.images-amazon.com/images/I/51IEqPrF...   \n",
       "\n",
       "                                             related title  \n",
       "0  {'also_viewed': ['B001OLRKLQ', 'B004J35JIC', '...   nan  \n",
       "1  {'also_viewed': ['B001OLRKLQ', 'B004J35JIC', '...   nan  \n",
       "2  {'also_viewed': ['B001OLRKLQ', 'B004J35JIC', '...   nan  \n",
       "3  {'also_viewed': ['B001OLRKLQ', 'B004J35JIC', '...   nan  \n",
       "4  {'also_viewed': ['B001OLRKLQ', 'B004J35JIC', '...   nan  "
      ]
     },
     "execution_count": 25,
     "metadata": {},
     "output_type": "execute_result"
    }
   ],
   "source": [
    "temp = reviews_kindle.merge(meta_kindle, how='left', on=['asin']).drop_duplicates()\n",
    "temp.head()"
   ]
  },
  {
   "cell_type": "code",
   "execution_count": 20,
   "metadata": {},
   "outputs": [
    {
     "data": {
      "text/plain": [
       "asin           object\n",
       "categories     object\n",
       "description    object\n",
       "imUrl          object\n",
       "related        object\n",
       "title          object\n",
       "dtype: object"
      ]
     },
     "execution_count": 20,
     "metadata": {},
     "output_type": "execute_result"
    }
   ],
   "source": [
    "meta_kindle = meta_kindle.astype(str)\n",
    "# meta_kindle['asin']= meta_kindle['asin'].astype(str)\n",
    "# meta_kindle['categories']= meta_kindle['categories'].astype(str)\n",
    "# meta_kindle['description']= meta_kindle['description'].astype(str)\n",
    "# meta_kindle['imURL']= meta_kindle['imURL'].astype(str)\n",
    "# meta_kindle['related']= meta_kindle['related'].astype(str)\n",
    "# meta_kindle['title']= meta_kindle['title'].astype(str)\n",
    "meta_kindle.dtypes"
   ]
  },
  {
   "cell_type": "code",
   "execution_count": 21,
   "metadata": {},
   "outputs": [],
   "source": [
    "reviews_kindle['asin']= reviews_kindle['asin'].astype(str)"
   ]
  },
  {
   "cell_type": "code",
   "execution_count": 23,
   "metadata": {},
   "outputs": [],
   "source": [
    "meta_kindle['asin']= meta_kindle['asin'].astype(str)"
   ]
  },
  {
   "cell_type": "code",
   "execution_count": 27,
   "metadata": {},
   "outputs": [],
   "source": [
    "kindle = temp"
   ]
  },
  {
   "cell_type": "code",
   "execution_count": null,
   "metadata": {},
   "outputs": [],
   "source": []
  }
 ],
 "metadata": {
  "kernelspec": {
   "display_name": "Python 3",
   "language": "python",
   "name": "python3"
  },
  "language_info": {
   "codemirror_mode": {
    "name": "ipython",
    "version": 3
   },
   "file_extension": ".py",
   "mimetype": "text/x-python",
   "name": "python",
   "nbconvert_exporter": "python",
   "pygments_lexer": "ipython3",
   "version": "3.6.5"
  }
 },
 "nbformat": 4,
 "nbformat_minor": 2
}
