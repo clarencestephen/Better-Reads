{
 "cells": [
  {
   "cell_type": "code",
   "execution_count": 1,
   "metadata": {},
   "outputs": [],
   "source": [
    "import pandas as pd\n",
    "import numpy as np\n",
    "from collections import defaultdict\n",
    "import pickle\n",
    "import os\n",
    "import time\n",
    "import timeit\n",
    "import json\n",
    "\n",
    "# pickloader = open(\"pickles/reviews_books.pkl\",\"rb\")\n",
    "# reviews_books = pickle.load(pickloader)\n",
    "# pickloader.close()\n",
    "\n",
    "# pickloader = open(\"pickles/meta_books.pkl\",\"rb\")\n",
    "# meta_books = pickle.load(pickloader)\n",
    "# pickloader.close()\n"
   ]
  },
  {
   "cell_type": "code",
   "execution_count": 24,
   "metadata": {},
   "outputs": [],
   "source": [
    "# #pickle save\n",
    "\n",
    "# pickler = open(\"pickles/reviews_books.pkl\",\"wb\")\n",
    "# pickle.dump(reviews_books, pickler)\n",
    "# pickler.close()\n",
    "\n",
    "# pickler = open(\"pickles/meta_books.pkl\",\"wb\")\n",
    "# pickle.dump(meta_books, pickler)\n",
    "# pickler.close()\n",
    "\n",
    "# pickler = open(\"pickles/books.pkl\",\"wb\")\n",
    "# pickle.dump(books, pickler)\n",
    "# pickler.close()"
   ]
  },
  {
   "cell_type": "code",
   "execution_count": 11,
   "metadata": {},
   "outputs": [
    {
     "data": {
      "text/html": [
       "<div>\n",
       "<style scoped>\n",
       "    .dataframe tbody tr th:only-of-type {\n",
       "        vertical-align: middle;\n",
       "    }\n",
       "\n",
       "    .dataframe tbody tr th {\n",
       "        vertical-align: top;\n",
       "    }\n",
       "\n",
       "    .dataframe thead th {\n",
       "        text-align: right;\n",
       "    }\n",
       "</style>\n",
       "<table border=\"1\" class=\"dataframe\">\n",
       "  <thead>\n",
       "    <tr style=\"text-align: right;\">\n",
       "      <th></th>\n",
       "      <th>asin</th>\n",
       "      <th>overall</th>\n",
       "      <th>reviewText</th>\n",
       "      <th>reviewerID</th>\n",
       "      <th>year</th>\n",
       "    </tr>\n",
       "  </thead>\n",
       "  <tbody>\n",
       "    <tr>\n",
       "      <th>0</th>\n",
       "      <td>0000000116</td>\n",
       "      <td>4</td>\n",
       "      <td>Show me the money! Interesting Grisham tale of...</td>\n",
       "      <td>AH2L9G3DQHHAJ</td>\n",
       "      <td>2002-04-27</td>\n",
       "    </tr>\n",
       "  </tbody>\n",
       "</table>\n",
       "</div>"
      ],
      "text/plain": [
       "         asin  overall                                         reviewText  \\\n",
       "0  0000000116        4  Show me the money! Interesting Grisham tale of...   \n",
       "\n",
       "      reviewerID       year  \n",
       "0  AH2L9G3DQHHAJ 2002-04-27  "
      ]
     },
     "execution_count": 11,
     "metadata": {},
     "output_type": "execute_result"
    }
   ],
   "source": [
    "reviews_books.head(1)"
   ]
  },
  {
   "cell_type": "code",
   "execution_count": 10,
   "metadata": {},
   "outputs": [
    {
     "name": "stdout",
     "output_type": "stream",
     "text": [
      "CPU times: user 15.5 s, sys: 6.76 s, total: 22.3 s\n",
      "Wall time: 22.2 s\n"
     ]
    }
   ],
   "source": [
    "%%time\n",
    "reviews_books['reviewText'] = reviews_books['summary']+\" \"+reviews_books['reviewText']\n",
    "# reviews_books['year']= pd.to_datetime(reviews_books.reviewTime)\n",
    "reviews_books = reviews_books.drop(columns = ['helpful','reviewTime','reviewerName','summary','unixReviewTime'])"
   ]
  },
  {
   "cell_type": "code",
   "execution_count": 15,
   "metadata": {},
   "outputs": [
    {
     "data": {
      "text/html": [
       "<div>\n",
       "<style scoped>\n",
       "    .dataframe tbody tr th:only-of-type {\n",
       "        vertical-align: middle;\n",
       "    }\n",
       "\n",
       "    .dataframe tbody tr th {\n",
       "        vertical-align: top;\n",
       "    }\n",
       "\n",
       "    .dataframe thead th {\n",
       "        text-align: right;\n",
       "    }\n",
       "</style>\n",
       "<table border=\"1\" class=\"dataframe\">\n",
       "  <thead>\n",
       "    <tr style=\"text-align: right;\">\n",
       "      <th></th>\n",
       "      <th>asin</th>\n",
       "      <th>categories</th>\n",
       "      <th>description</th>\n",
       "      <th>imUrl</th>\n",
       "      <th>related</th>\n",
       "      <th>title</th>\n",
       "    </tr>\n",
       "  </thead>\n",
       "  <tbody>\n",
       "    <tr>\n",
       "      <th>0</th>\n",
       "      <td>0001048791</td>\n",
       "      <td>[[Books]]</td>\n",
       "      <td>NaN</td>\n",
       "      <td>http://ecx.images-amazon.com/images/I/51MKP0T4...</td>\n",
       "      <td>NaN</td>\n",
       "      <td>The Crucible: Performed by Stuart Pankin, Jero...</td>\n",
       "    </tr>\n",
       "    <tr>\n",
       "      <th>1</th>\n",
       "      <td>0001048775</td>\n",
       "      <td>[[Books]]</td>\n",
       "      <td>William Shakespeare is widely regarded as the ...</td>\n",
       "      <td>http://ecx.images-amazon.com/images/I/5166EBHD...</td>\n",
       "      <td>NaN</td>\n",
       "      <td>Measure for Measure: Complete &amp;amp; Unabridged</td>\n",
       "    </tr>\n",
       "    <tr>\n",
       "      <th>2</th>\n",
       "      <td>0001048236</td>\n",
       "      <td>[[Books]]</td>\n",
       "      <td>&amp;#34;One thing is certain, Sherlockians, put a...</td>\n",
       "      <td>http://ecx.images-amazon.com/images/I/51DH145C...</td>\n",
       "      <td>{'also_viewed': ['1442300191', '9626349786', '...</td>\n",
       "      <td>The Sherlock Holmes Audio Collection</td>\n",
       "    </tr>\n",
       "    <tr>\n",
       "      <th>3</th>\n",
       "      <td>0000401048</td>\n",
       "      <td>[[Books]]</td>\n",
       "      <td>NaN</td>\n",
       "      <td>http://ecx.images-amazon.com/images/I/41bchvIf...</td>\n",
       "      <td>{'also_viewed': ['068240103X']}</td>\n",
       "      <td>The rogue of publishers' row;: Confessions of ...</td>\n",
       "    </tr>\n",
       "    <tr>\n",
       "      <th>4</th>\n",
       "      <td>0001019880</td>\n",
       "      <td>[[Books]]</td>\n",
       "      <td>NaN</td>\n",
       "      <td>http://ecx.images-amazon.com/images/I/61LcHUdv...</td>\n",
       "      <td>{'also_viewed': ['B003HMB5FC', '0834004593'], ...</td>\n",
       "      <td>Classic Soul Winner's New Testament Bible</td>\n",
       "    </tr>\n",
       "  </tbody>\n",
       "</table>\n",
       "</div>"
      ],
      "text/plain": [
       "         asin categories                                        description  \\\n",
       "0  0001048791  [[Books]]                                                NaN   \n",
       "1  0001048775  [[Books]]  William Shakespeare is widely regarded as the ...   \n",
       "2  0001048236  [[Books]]  &#34;One thing is certain, Sherlockians, put a...   \n",
       "3  0000401048  [[Books]]                                                NaN   \n",
       "4  0001019880  [[Books]]                                                NaN   \n",
       "\n",
       "                                               imUrl  \\\n",
       "0  http://ecx.images-amazon.com/images/I/51MKP0T4...   \n",
       "1  http://ecx.images-amazon.com/images/I/5166EBHD...   \n",
       "2  http://ecx.images-amazon.com/images/I/51DH145C...   \n",
       "3  http://ecx.images-amazon.com/images/I/41bchvIf...   \n",
       "4  http://ecx.images-amazon.com/images/I/61LcHUdv...   \n",
       "\n",
       "                                             related  \\\n",
       "0                                                NaN   \n",
       "1                                                NaN   \n",
       "2  {'also_viewed': ['1442300191', '9626349786', '...   \n",
       "3                    {'also_viewed': ['068240103X']}   \n",
       "4  {'also_viewed': ['B003HMB5FC', '0834004593'], ...   \n",
       "\n",
       "                                               title  \n",
       "0  The Crucible: Performed by Stuart Pankin, Jero...  \n",
       "1     Measure for Measure: Complete &amp; Unabridged  \n",
       "2               The Sherlock Holmes Audio Collection  \n",
       "3  The rogue of publishers' row;: Confessions of ...  \n",
       "4          Classic Soul Winner's New Testament Bible  "
      ]
     },
     "execution_count": 15,
     "metadata": {},
     "output_type": "execute_result"
    }
   ],
   "source": [
    "# meta_books = meta_books.drop(columns = ['brand','price','salesRank'])\n",
    "meta_books.head()"
   ]
  },
  {
   "cell_type": "code",
   "execution_count": 19,
   "metadata": {},
   "outputs": [],
   "source": [
    "reviews_books['asin']= reviews_books['asin'].astype(str)\n",
    "meta_books['asin']= meta_books['asin'].astype(str)"
   ]
  },
  {
   "cell_type": "code",
   "execution_count": null,
   "metadata": {},
   "outputs": [],
   "source": [
    "# meta_books['temp']=meta_books.categories.astype(str).replace('[','').replace(']','')"
   ]
  },
  {
   "cell_type": "code",
   "execution_count": 17,
   "metadata": {},
   "outputs": [
    {
     "name": "stdout",
     "output_type": "stream",
     "text": [
      "(22507155, 5) (2370585, 6)\n"
     ]
    }
   ],
   "source": [
    "print(reviews_books.shape, meta_books.shape)"
   ]
  },
  {
   "cell_type": "code",
   "execution_count": 22,
   "metadata": {},
   "outputs": [
    {
     "data": {
      "text/plain": [
       "(22507155, 10)"
      ]
     },
     "execution_count": 22,
     "metadata": {},
     "output_type": "execute_result"
    }
   ],
   "source": [
    "temp.shape"
   ]
  },
  {
   "cell_type": "code",
   "execution_count": 21,
   "metadata": {
    "scrolled": true
   },
   "outputs": [
    {
     "data": {
      "text/html": [
       "<div>\n",
       "<style scoped>\n",
       "    .dataframe tbody tr th:only-of-type {\n",
       "        vertical-align: middle;\n",
       "    }\n",
       "\n",
       "    .dataframe tbody tr th {\n",
       "        vertical-align: top;\n",
       "    }\n",
       "\n",
       "    .dataframe thead th {\n",
       "        text-align: right;\n",
       "    }\n",
       "</style>\n",
       "<table border=\"1\" class=\"dataframe\">\n",
       "  <thead>\n",
       "    <tr style=\"text-align: right;\">\n",
       "      <th></th>\n",
       "      <th>asin</th>\n",
       "      <th>overall</th>\n",
       "      <th>reviewText</th>\n",
       "      <th>reviewerID</th>\n",
       "      <th>year</th>\n",
       "      <th>categories</th>\n",
       "      <th>description</th>\n",
       "      <th>imUrl</th>\n",
       "      <th>related</th>\n",
       "      <th>title</th>\n",
       "    </tr>\n",
       "  </thead>\n",
       "  <tbody>\n",
       "    <tr>\n",
       "      <th>0</th>\n",
       "      <td>0000000116</td>\n",
       "      <td>4</td>\n",
       "      <td>Show me the money! Interesting Grisham tale of...</td>\n",
       "      <td>AH2L9G3DQHHAJ</td>\n",
       "      <td>2002-04-27</td>\n",
       "      <td>[[Books]]</td>\n",
       "      <td>NaN</td>\n",
       "      <td>http://ecx.images-amazon.com/images/I/51Rbg%2B...</td>\n",
       "      <td>{'also_viewed': ['B005U9T66K', 'B00602O7PG', '...</td>\n",
       "      <td>Georgina Goodman Nelson Womens Size 8.5 Purple...</td>\n",
       "    </tr>\n",
       "    <tr>\n",
       "      <th>1</th>\n",
       "      <td>0000000116</td>\n",
       "      <td>1</td>\n",
       "      <td>Listing is all screwed up The thumbnail is a s...</td>\n",
       "      <td>A2IIIDRK3PRRZY</td>\n",
       "      <td>2014-03-24</td>\n",
       "      <td>[[Books]]</td>\n",
       "      <td>NaN</td>\n",
       "      <td>http://ecx.images-amazon.com/images/I/51Rbg%2B...</td>\n",
       "      <td>{'also_viewed': ['B005U9T66K', 'B00602O7PG', '...</td>\n",
       "      <td>Georgina Goodman Nelson Womens Size 8.5 Purple...</td>\n",
       "    </tr>\n",
       "    <tr>\n",
       "      <th>2</th>\n",
       "      <td>0000000868</td>\n",
       "      <td>4</td>\n",
       "      <td>Not a Bad Translation I'll be honest. I work f...</td>\n",
       "      <td>A1TADCM7YWPQ8M</td>\n",
       "      <td>2002-09-11</td>\n",
       "      <td>[[Books]]</td>\n",
       "      <td>NaN</td>\n",
       "      <td>http://ecx.images-amazon.com/images/I/41K1RtF0...</td>\n",
       "      <td>NaN</td>\n",
       "      <td>Foot Rot of Piper nigrum. L. (Phytopathologica...</td>\n",
       "    </tr>\n",
       "    <tr>\n",
       "      <th>3</th>\n",
       "      <td>0000013714</td>\n",
       "      <td>4</td>\n",
       "      <td>Not the large print It had all the songs I wan...</td>\n",
       "      <td>AWGH7V0BDOJKB</td>\n",
       "      <td>2013-10-31</td>\n",
       "      <td>[[Books]]</td>\n",
       "      <td>NaN</td>\n",
       "      <td>http://ecx.images-amazon.com/images/I/51M1p2do...</td>\n",
       "      <td>{'also_bought': ['0005080789', '0005476798', '...</td>\n",
       "      <td>Heavenly Highway Hymns: Shaped-Note Hymnal</td>\n",
       "    </tr>\n",
       "    <tr>\n",
       "      <th>4</th>\n",
       "      <td>0000013714</td>\n",
       "      <td>5</td>\n",
       "      <td>I was disappointed that you would only allow m...</td>\n",
       "      <td>A3UTQPQPM4TQO0</td>\n",
       "      <td>2013-07-27</td>\n",
       "      <td>[[Books]]</td>\n",
       "      <td>NaN</td>\n",
       "      <td>http://ecx.images-amazon.com/images/I/51M1p2do...</td>\n",
       "      <td>{'also_bought': ['0005080789', '0005476798', '...</td>\n",
       "      <td>Heavenly Highway Hymns: Shaped-Note Hymnal</td>\n",
       "    </tr>\n",
       "  </tbody>\n",
       "</table>\n",
       "</div>"
      ],
      "text/plain": [
       "         asin  overall                                         reviewText  \\\n",
       "0  0000000116        4  Show me the money! Interesting Grisham tale of...   \n",
       "1  0000000116        1  Listing is all screwed up The thumbnail is a s...   \n",
       "2  0000000868        4  Not a Bad Translation I'll be honest. I work f...   \n",
       "3  0000013714        4  Not the large print It had all the songs I wan...   \n",
       "4  0000013714        5  I was disappointed that you would only allow m...   \n",
       "\n",
       "       reviewerID       year categories description  \\\n",
       "0   AH2L9G3DQHHAJ 2002-04-27  [[Books]]         NaN   \n",
       "1  A2IIIDRK3PRRZY 2014-03-24  [[Books]]         NaN   \n",
       "2  A1TADCM7YWPQ8M 2002-09-11  [[Books]]         NaN   \n",
       "3   AWGH7V0BDOJKB 2013-10-31  [[Books]]         NaN   \n",
       "4  A3UTQPQPM4TQO0 2013-07-27  [[Books]]         NaN   \n",
       "\n",
       "                                               imUrl  \\\n",
       "0  http://ecx.images-amazon.com/images/I/51Rbg%2B...   \n",
       "1  http://ecx.images-amazon.com/images/I/51Rbg%2B...   \n",
       "2  http://ecx.images-amazon.com/images/I/41K1RtF0...   \n",
       "3  http://ecx.images-amazon.com/images/I/51M1p2do...   \n",
       "4  http://ecx.images-amazon.com/images/I/51M1p2do...   \n",
       "\n",
       "                                             related  \\\n",
       "0  {'also_viewed': ['B005U9T66K', 'B00602O7PG', '...   \n",
       "1  {'also_viewed': ['B005U9T66K', 'B00602O7PG', '...   \n",
       "2                                                NaN   \n",
       "3  {'also_bought': ['0005080789', '0005476798', '...   \n",
       "4  {'also_bought': ['0005080789', '0005476798', '...   \n",
       "\n",
       "                                               title  \n",
       "0  Georgina Goodman Nelson Womens Size 8.5 Purple...  \n",
       "1  Georgina Goodman Nelson Womens Size 8.5 Purple...  \n",
       "2  Foot Rot of Piper nigrum. L. (Phytopathologica...  \n",
       "3         Heavenly Highway Hymns: Shaped-Note Hymnal  \n",
       "4         Heavenly Highway Hymns: Shaped-Note Hymnal  "
      ]
     },
     "execution_count": 21,
     "metadata": {},
     "output_type": "execute_result"
    }
   ],
   "source": [
    "temp = reviews_books.merge(meta_books, how='left', on='asin')\n",
    "temp.head()"
   ]
  },
  {
   "cell_type": "code",
   "execution_count": 23,
   "metadata": {},
   "outputs": [],
   "source": [
    "books = temp"
   ]
  },
  {
   "cell_type": "code",
   "execution_count": null,
   "metadata": {},
   "outputs": [],
   "source": []
  }
 ],
 "metadata": {
  "kernelspec": {
   "display_name": "Python 3",
   "language": "python",
   "name": "python3"
  },
  "language_info": {
   "codemirror_mode": {
    "name": "ipython",
    "version": 3
   },
   "file_extension": ".py",
   "mimetype": "text/x-python",
   "name": "python",
   "nbconvert_exporter": "python",
   "pygments_lexer": "ipython3",
   "version": "3.6.5"
  }
 },
 "nbformat": 4,
 "nbformat_minor": 2
}
